{
  "cells": [
    {
      "cell_type": "markdown",
      "metadata": {
        "id": "view-in-github",
        "colab_type": "text"
      },
      "source": [
        "<a href=\"https://colab.research.google.com/github/GunmetalPoem/Visualizer-HTML/blob/main/CNN_Video.ipynb\" target=\"_parent\"><img src=\"https://colab.research.google.com/assets/colab-badge.svg\" alt=\"Open In Colab\"/></a>"
      ]
    },
    {
      "cell_type": "markdown",
      "metadata": {
        "id": "il6d_MzLiaj0"
      },
      "source": [
        "Run Below\n"
      ]
    },
    {
      "cell_type": "code",
      "execution_count": null,
      "metadata": {
        "colab": {
          "base_uri": "https://localhost:8080/"
        },
        "id": "nOwenS6tiZtN",
        "outputId": "bbb4895f-1795-45a5-8d52-e180603e5fa1"
      },
      "outputs": [
        {
          "output_type": "stream",
          "name": "stdout",
          "text": [
            "Requirement already satisfied: streamlit in /usr/local/lib/python3.10/dist-packages (1.25.0)\n",
            "Requirement already satisfied: altair<6,>=4.0 in /usr/local/lib/python3.10/dist-packages (from streamlit) (4.2.2)\n",
            "Requirement already satisfied: blinker<2,>=1.0.0 in /usr/lib/python3/dist-packages (from streamlit) (1.4)\n",
            "Requirement already satisfied: cachetools<6,>=4.0 in /usr/local/lib/python3.10/dist-packages (from streamlit) (5.3.1)\n",
            "Requirement already satisfied: click<9,>=7.0 in /usr/local/lib/python3.10/dist-packages (from streamlit) (8.1.6)\n",
            "Requirement already satisfied: importlib-metadata<7,>=1.4 in /usr/lib/python3/dist-packages (from streamlit) (4.6.4)\n",
            "Requirement already satisfied: numpy<2,>=1.19.3 in /usr/local/lib/python3.10/dist-packages (from streamlit) (1.22.4)\n",
            "Requirement already satisfied: packaging<24,>=16.8 in /usr/local/lib/python3.10/dist-packages (from streamlit) (23.1)\n",
            "Requirement already satisfied: pandas<3,>=1.3.0 in /usr/local/lib/python3.10/dist-packages (from streamlit) (1.5.3)\n",
            "Requirement already satisfied: pillow<10,>=7.1.0 in /usr/local/lib/python3.10/dist-packages (from streamlit) (9.4.0)\n",
            "Requirement already satisfied: protobuf<5,>=3.20 in /usr/local/lib/python3.10/dist-packages (from streamlit) (3.20.3)\n",
            "Requirement already satisfied: pyarrow>=6.0 in /usr/local/lib/python3.10/dist-packages (from streamlit) (9.0.0)\n",
            "Requirement already satisfied: pympler<2,>=0.9 in /usr/local/lib/python3.10/dist-packages (from streamlit) (1.0.1)\n",
            "Requirement already satisfied: python-dateutil<3,>=2.7.3 in /usr/local/lib/python3.10/dist-packages (from streamlit) (2.8.2)\n",
            "Requirement already satisfied: requests<3,>=2.18 in /usr/local/lib/python3.10/dist-packages (from streamlit) (2.27.1)\n",
            "Requirement already satisfied: rich<14,>=10.14.0 in /usr/local/lib/python3.10/dist-packages (from streamlit) (13.4.2)\n",
            "Requirement already satisfied: tenacity<9,>=8.1.0 in /usr/local/lib/python3.10/dist-packages (from streamlit) (8.2.2)\n",
            "Requirement already satisfied: toml<2,>=0.10.1 in /usr/local/lib/python3.10/dist-packages (from streamlit) (0.10.2)\n",
            "Requirement already satisfied: typing-extensions<5,>=4.1.0 in /usr/local/lib/python3.10/dist-packages (from streamlit) (4.7.1)\n",
            "Requirement already satisfied: tzlocal<5,>=1.1 in /usr/local/lib/python3.10/dist-packages (from streamlit) (4.3.1)\n",
            "Requirement already satisfied: validators<1,>=0.2 in /usr/local/lib/python3.10/dist-packages (from streamlit) (0.20.0)\n",
            "Requirement already satisfied: gitpython!=3.1.19,<4,>=3.0.7 in /usr/local/lib/python3.10/dist-packages (from streamlit) (3.1.32)\n",
            "Requirement already satisfied: pydeck<1,>=0.8 in /usr/local/lib/python3.10/dist-packages (from streamlit) (0.8.0)\n",
            "Requirement already satisfied: tornado<7,>=6.0.3 in /usr/local/lib/python3.10/dist-packages (from streamlit) (6.3.1)\n",
            "Requirement already satisfied: watchdog>=2.1.5 in /usr/local/lib/python3.10/dist-packages (from streamlit) (3.0.0)\n",
            "Requirement already satisfied: entrypoints in /usr/local/lib/python3.10/dist-packages (from altair<6,>=4.0->streamlit) (0.4)\n",
            "Requirement already satisfied: jinja2 in /usr/local/lib/python3.10/dist-packages (from altair<6,>=4.0->streamlit) (3.1.2)\n",
            "Requirement already satisfied: jsonschema>=3.0 in /usr/local/lib/python3.10/dist-packages (from altair<6,>=4.0->streamlit) (4.3.3)\n",
            "Requirement already satisfied: toolz in /usr/local/lib/python3.10/dist-packages (from altair<6,>=4.0->streamlit) (0.12.0)\n",
            "Requirement already satisfied: gitdb<5,>=4.0.1 in /usr/local/lib/python3.10/dist-packages (from gitpython!=3.1.19,<4,>=3.0.7->streamlit) (4.0.10)\n",
            "Requirement already satisfied: pytz>=2020.1 in /usr/local/lib/python3.10/dist-packages (from pandas<3,>=1.3.0->streamlit) (2022.7.1)\n",
            "Requirement already satisfied: six>=1.5 in /usr/local/lib/python3.10/dist-packages (from python-dateutil<3,>=2.7.3->streamlit) (1.16.0)\n",
            "Requirement already satisfied: urllib3<1.27,>=1.21.1 in /usr/local/lib/python3.10/dist-packages (from requests<3,>=2.18->streamlit) (1.26.16)\n",
            "Requirement already satisfied: certifi>=2017.4.17 in /usr/local/lib/python3.10/dist-packages (from requests<3,>=2.18->streamlit) (2023.7.22)\n",
            "Requirement already satisfied: charset-normalizer~=2.0.0 in /usr/local/lib/python3.10/dist-packages (from requests<3,>=2.18->streamlit) (2.0.12)\n",
            "Requirement already satisfied: idna<4,>=2.5 in /usr/local/lib/python3.10/dist-packages (from requests<3,>=2.18->streamlit) (3.4)\n",
            "Requirement already satisfied: markdown-it-py>=2.2.0 in /usr/local/lib/python3.10/dist-packages (from rich<14,>=10.14.0->streamlit) (3.0.0)\n",
            "Requirement already satisfied: pygments<3.0.0,>=2.13.0 in /usr/local/lib/python3.10/dist-packages (from rich<14,>=10.14.0->streamlit) (2.14.0)\n",
            "Requirement already satisfied: pytz-deprecation-shim in /usr/local/lib/python3.10/dist-packages (from tzlocal<5,>=1.1->streamlit) (0.1.0.post0)\n",
            "Requirement already satisfied: decorator>=3.4.0 in /usr/local/lib/python3.10/dist-packages (from validators<1,>=0.2->streamlit) (4.4.2)\n",
            "Requirement already satisfied: smmap<6,>=3.0.1 in /usr/local/lib/python3.10/dist-packages (from gitdb<5,>=4.0.1->gitpython!=3.1.19,<4,>=3.0.7->streamlit) (5.0.0)\n",
            "Requirement already satisfied: MarkupSafe>=2.0 in /usr/local/lib/python3.10/dist-packages (from jinja2->altair<6,>=4.0->streamlit) (2.1.3)\n",
            "Requirement already satisfied: attrs>=17.4.0 in /usr/local/lib/python3.10/dist-packages (from jsonschema>=3.0->altair<6,>=4.0->streamlit) (23.1.0)\n",
            "Requirement already satisfied: pyrsistent!=0.17.0,!=0.17.1,!=0.17.2,>=0.14.0 in /usr/local/lib/python3.10/dist-packages (from jsonschema>=3.0->altair<6,>=4.0->streamlit) (0.19.3)\n",
            "Requirement already satisfied: mdurl~=0.1 in /usr/local/lib/python3.10/dist-packages (from markdown-it-py>=2.2.0->rich<14,>=10.14.0->streamlit) (0.1.2)\n",
            "Requirement already satisfied: tzdata in /usr/local/lib/python3.10/dist-packages (from pytz-deprecation-shim->tzlocal<5,>=1.1->streamlit) (2023.3)\n",
            "Requirement already satisfied: opencv-python in /usr/local/lib/python3.10/dist-packages (4.7.0.72)\n",
            "Requirement already satisfied: numpy>=1.21.2 in /usr/local/lib/python3.10/dist-packages (from opencv-python) (1.22.4)\n",
            "Collecting streamlit-webrtc\n",
            "  Downloading streamlit_webrtc-0.45.1-py3-none-any.whl (873 kB)\n",
            "\u001b[2K     \u001b[90m━━━━━━━━━━━━━━━━━━━━━━━━━━━━━━━━━━━━━━\u001b[0m \u001b[32m873.4/873.4 kB\u001b[0m \u001b[31m19.2 MB/s\u001b[0m eta \u001b[36m0:00:00\u001b[0m\n",
            "\u001b[?25hCollecting aiortc<2.0.0,>=1.4.0 (from streamlit-webrtc)\n",
            "  Downloading aiortc-1.5.0-cp310-cp310-manylinux_2_17_x86_64.manylinux2014_x86_64.whl (1.9 MB)\n",
            "\u001b[2K     \u001b[90m━━━━━━━━━━━━━━━━━━━━━━━━━━━━━━━━━━━━━━━━\u001b[0m \u001b[32m1.9/1.9 MB\u001b[0m \u001b[31m62.9 MB/s\u001b[0m eta \u001b[36m0:00:00\u001b[0m\n",
            "\u001b[?25hRequirement already satisfied: packaging>=20.0 in /usr/local/lib/python3.10/dist-packages (from streamlit-webrtc) (23.1)\n",
            "Requirement already satisfied: streamlit>=0.84.1 in /usr/local/lib/python3.10/dist-packages (from streamlit-webrtc) (1.25.0)\n",
            "Collecting aioice<1.0.0,>=0.9.0 (from aiortc<2.0.0,>=1.4.0->streamlit-webrtc)\n",
            "  Downloading aioice-0.9.0-py3-none-any.whl (24 kB)\n",
            "Collecting av<11.0.0,>=9.0.0 (from aiortc<2.0.0,>=1.4.0->streamlit-webrtc)\n",
            "  Downloading av-10.0.0-cp310-cp310-manylinux_2_17_x86_64.manylinux2014_x86_64.whl (31.0 MB)\n",
            "\u001b[2K     \u001b[90m━━━━━━━━━━━━━━━━━━━━━━━━━━━━━━━━━━━━━━━━\u001b[0m \u001b[32m31.0/31.0 MB\u001b[0m \u001b[31m66.4 MB/s\u001b[0m eta \u001b[36m0:00:00\u001b[0m\n",
            "\u001b[?25hRequirement already satisfied: cffi>=1.0.0 in /usr/local/lib/python3.10/dist-packages (from aiortc<2.0.0,>=1.4.0->streamlit-webrtc) (1.15.1)\n",
            "Requirement already satisfied: cryptography>=2.2 in /usr/lib/python3/dist-packages (from aiortc<2.0.0,>=1.4.0->streamlit-webrtc) (3.4.8)\n",
            "Requirement already satisfied: google-crc32c>=1.1 in /usr/local/lib/python3.10/dist-packages (from aiortc<2.0.0,>=1.4.0->streamlit-webrtc) (1.5.0)\n",
            "Collecting pyee>=9.0.0 (from aiortc<2.0.0,>=1.4.0->streamlit-webrtc)\n",
            "  Downloading pyee-11.0.0-py3-none-any.whl (15 kB)\n",
            "Collecting pylibsrtp>=0.5.6 (from aiortc<2.0.0,>=1.4.0->streamlit-webrtc)\n",
            "  Downloading pylibsrtp-0.8.0-cp310-cp310-manylinux_2_17_x86_64.manylinux2014_x86_64.whl (74 kB)\n",
            "\u001b[2K     \u001b[90m━━━━━━━━━━━━━━━━━━━━━━━━━━━━━━━━━━━━━━━━\u001b[0m \u001b[32m74.8/74.8 kB\u001b[0m \u001b[31m9.9 MB/s\u001b[0m eta \u001b[36m0:00:00\u001b[0m\n",
            "\u001b[?25hCollecting pyopenssl>=23.1.0 (from aiortc<2.0.0,>=1.4.0->streamlit-webrtc)\n",
            "  Downloading pyOpenSSL-23.2.0-py3-none-any.whl (59 kB)\n",
            "\u001b[2K     \u001b[90m━━━━━━━━━━━━━━━━━━━━━━━━━━━━━━━━━━━━━━━━\u001b[0m \u001b[32m59.0/59.0 kB\u001b[0m \u001b[31m8.0 MB/s\u001b[0m eta \u001b[36m0:00:00\u001b[0m\n",
            "\u001b[?25hRequirement already satisfied: altair<6,>=4.0 in /usr/local/lib/python3.10/dist-packages (from streamlit>=0.84.1->streamlit-webrtc) (4.2.2)\n",
            "Requirement already satisfied: blinker<2,>=1.0.0 in /usr/lib/python3/dist-packages (from streamlit>=0.84.1->streamlit-webrtc) (1.4)\n",
            "Requirement already satisfied: cachetools<6,>=4.0 in /usr/local/lib/python3.10/dist-packages (from streamlit>=0.84.1->streamlit-webrtc) (5.3.1)\n",
            "Requirement already satisfied: click<9,>=7.0 in /usr/local/lib/python3.10/dist-packages (from streamlit>=0.84.1->streamlit-webrtc) (8.1.6)\n",
            "Requirement already satisfied: importlib-metadata<7,>=1.4 in /usr/lib/python3/dist-packages (from streamlit>=0.84.1->streamlit-webrtc) (4.6.4)\n",
            "Requirement already satisfied: numpy<2,>=1.19.3 in /usr/local/lib/python3.10/dist-packages (from streamlit>=0.84.1->streamlit-webrtc) (1.22.4)\n",
            "Requirement already satisfied: pandas<3,>=1.3.0 in /usr/local/lib/python3.10/dist-packages (from streamlit>=0.84.1->streamlit-webrtc) (1.5.3)\n",
            "Requirement already satisfied: pillow<10,>=7.1.0 in /usr/local/lib/python3.10/dist-packages (from streamlit>=0.84.1->streamlit-webrtc) (9.4.0)\n",
            "Requirement already satisfied: protobuf<5,>=3.20 in /usr/local/lib/python3.10/dist-packages (from streamlit>=0.84.1->streamlit-webrtc) (3.20.3)\n",
            "Requirement already satisfied: pyarrow>=6.0 in /usr/local/lib/python3.10/dist-packages (from streamlit>=0.84.1->streamlit-webrtc) (9.0.0)\n",
            "Requirement already satisfied: pympler<2,>=0.9 in /usr/local/lib/python3.10/dist-packages (from streamlit>=0.84.1->streamlit-webrtc) (1.0.1)\n",
            "Requirement already satisfied: python-dateutil<3,>=2.7.3 in /usr/local/lib/python3.10/dist-packages (from streamlit>=0.84.1->streamlit-webrtc) (2.8.2)\n",
            "Requirement already satisfied: requests<3,>=2.18 in /usr/local/lib/python3.10/dist-packages (from streamlit>=0.84.1->streamlit-webrtc) (2.27.1)\n",
            "Requirement already satisfied: rich<14,>=10.14.0 in /usr/local/lib/python3.10/dist-packages (from streamlit>=0.84.1->streamlit-webrtc) (13.4.2)\n",
            "Requirement already satisfied: tenacity<9,>=8.1.0 in /usr/local/lib/python3.10/dist-packages (from streamlit>=0.84.1->streamlit-webrtc) (8.2.2)\n",
            "Requirement already satisfied: toml<2,>=0.10.1 in /usr/local/lib/python3.10/dist-packages (from streamlit>=0.84.1->streamlit-webrtc) (0.10.2)\n",
            "Requirement already satisfied: typing-extensions<5,>=4.1.0 in /usr/local/lib/python3.10/dist-packages (from streamlit>=0.84.1->streamlit-webrtc) (4.7.1)\n",
            "Requirement already satisfied: tzlocal<5,>=1.1 in /usr/local/lib/python3.10/dist-packages (from streamlit>=0.84.1->streamlit-webrtc) (4.3.1)\n",
            "Requirement already satisfied: validators<1,>=0.2 in /usr/local/lib/python3.10/dist-packages (from streamlit>=0.84.1->streamlit-webrtc) (0.20.0)\n",
            "Requirement already satisfied: gitpython!=3.1.19,<4,>=3.0.7 in /usr/local/lib/python3.10/dist-packages (from streamlit>=0.84.1->streamlit-webrtc) (3.1.32)\n",
            "Requirement already satisfied: pydeck<1,>=0.8 in /usr/local/lib/python3.10/dist-packages (from streamlit>=0.84.1->streamlit-webrtc) (0.8.0)\n",
            "Requirement already satisfied: tornado<7,>=6.0.3 in /usr/local/lib/python3.10/dist-packages (from streamlit>=0.84.1->streamlit-webrtc) (6.3.1)\n",
            "Requirement already satisfied: watchdog>=2.1.5 in /usr/local/lib/python3.10/dist-packages (from streamlit>=0.84.1->streamlit-webrtc) (3.0.0)\n",
            "Collecting dnspython>=2.0.0 (from aioice<1.0.0,>=0.9.0->aiortc<2.0.0,>=1.4.0->streamlit-webrtc)\n",
            "  Downloading dnspython-2.4.1-py3-none-any.whl (300 kB)\n",
            "\u001b[2K     \u001b[90m━━━━━━━━━━━━━━━━━━━━━━━━━━━━━━━━━━━━━━\u001b[0m \u001b[32m300.3/300.3 kB\u001b[0m \u001b[31m33.9 MB/s\u001b[0m eta \u001b[36m0:00:00\u001b[0m\n",
            "\u001b[?25hCollecting ifaddr>=0.2.0 (from aioice<1.0.0,>=0.9.0->aiortc<2.0.0,>=1.4.0->streamlit-webrtc)\n",
            "  Downloading ifaddr-0.2.0-py3-none-any.whl (12 kB)\n",
            "Requirement already satisfied: entrypoints in /usr/local/lib/python3.10/dist-packages (from altair<6,>=4.0->streamlit>=0.84.1->streamlit-webrtc) (0.4)\n",
            "Requirement already satisfied: jinja2 in /usr/local/lib/python3.10/dist-packages (from altair<6,>=4.0->streamlit>=0.84.1->streamlit-webrtc) (3.1.2)\n",
            "Requirement already satisfied: jsonschema>=3.0 in /usr/local/lib/python3.10/dist-packages (from altair<6,>=4.0->streamlit>=0.84.1->streamlit-webrtc) (4.3.3)\n",
            "Requirement already satisfied: toolz in /usr/local/lib/python3.10/dist-packages (from altair<6,>=4.0->streamlit>=0.84.1->streamlit-webrtc) (0.12.0)\n",
            "Requirement already satisfied: pycparser in /usr/local/lib/python3.10/dist-packages (from cffi>=1.0.0->aiortc<2.0.0,>=1.4.0->streamlit-webrtc) (2.21)\n",
            "Requirement already satisfied: gitdb<5,>=4.0.1 in /usr/local/lib/python3.10/dist-packages (from gitpython!=3.1.19,<4,>=3.0.7->streamlit>=0.84.1->streamlit-webrtc) (4.0.10)\n",
            "Requirement already satisfied: pytz>=2020.1 in /usr/local/lib/python3.10/dist-packages (from pandas<3,>=1.3.0->streamlit>=0.84.1->streamlit-webrtc) (2022.7.1)\n",
            "Collecting cryptography>=2.2 (from aiortc<2.0.0,>=1.4.0->streamlit-webrtc)\n",
            "  Downloading cryptography-41.0.2-cp37-abi3-manylinux_2_28_x86_64.whl (4.3 MB)\n",
            "\u001b[2K     \u001b[90m━━━━━━━━━━━━━━━━━━━━━━━━━━━━━━━━━━━━━━━━\u001b[0m \u001b[32m4.3/4.3 MB\u001b[0m \u001b[31m100.0 MB/s\u001b[0m eta \u001b[36m0:00:00\u001b[0m\n",
            "\u001b[?25hRequirement already satisfied: six>=1.5 in /usr/local/lib/python3.10/dist-packages (from python-dateutil<3,>=2.7.3->streamlit>=0.84.1->streamlit-webrtc) (1.16.0)\n",
            "Requirement already satisfied: urllib3<1.27,>=1.21.1 in /usr/local/lib/python3.10/dist-packages (from requests<3,>=2.18->streamlit>=0.84.1->streamlit-webrtc) (1.26.16)\n",
            "Requirement already satisfied: certifi>=2017.4.17 in /usr/local/lib/python3.10/dist-packages (from requests<3,>=2.18->streamlit>=0.84.1->streamlit-webrtc) (2023.7.22)\n",
            "Requirement already satisfied: charset-normalizer~=2.0.0 in /usr/local/lib/python3.10/dist-packages (from requests<3,>=2.18->streamlit>=0.84.1->streamlit-webrtc) (2.0.12)\n",
            "Requirement already satisfied: idna<4,>=2.5 in /usr/local/lib/python3.10/dist-packages (from requests<3,>=2.18->streamlit>=0.84.1->streamlit-webrtc) (3.4)\n",
            "Requirement already satisfied: markdown-it-py>=2.2.0 in /usr/local/lib/python3.10/dist-packages (from rich<14,>=10.14.0->streamlit>=0.84.1->streamlit-webrtc) (3.0.0)\n",
            "Requirement already satisfied: pygments<3.0.0,>=2.13.0 in /usr/local/lib/python3.10/dist-packages (from rich<14,>=10.14.0->streamlit>=0.84.1->streamlit-webrtc) (2.14.0)\n",
            "Requirement already satisfied: pytz-deprecation-shim in /usr/local/lib/python3.10/dist-packages (from tzlocal<5,>=1.1->streamlit>=0.84.1->streamlit-webrtc) (0.1.0.post0)\n",
            "Requirement already satisfied: decorator>=3.4.0 in /usr/local/lib/python3.10/dist-packages (from validators<1,>=0.2->streamlit>=0.84.1->streamlit-webrtc) (4.4.2)\n",
            "Requirement already satisfied: smmap<6,>=3.0.1 in /usr/local/lib/python3.10/dist-packages (from gitdb<5,>=4.0.1->gitpython!=3.1.19,<4,>=3.0.7->streamlit>=0.84.1->streamlit-webrtc) (5.0.0)\n",
            "Requirement already satisfied: MarkupSafe>=2.0 in /usr/local/lib/python3.10/dist-packages (from jinja2->altair<6,>=4.0->streamlit>=0.84.1->streamlit-webrtc) (2.1.3)\n",
            "Requirement already satisfied: attrs>=17.4.0 in /usr/local/lib/python3.10/dist-packages (from jsonschema>=3.0->altair<6,>=4.0->streamlit>=0.84.1->streamlit-webrtc) (23.1.0)\n",
            "Requirement already satisfied: pyrsistent!=0.17.0,!=0.17.1,!=0.17.2,>=0.14.0 in /usr/local/lib/python3.10/dist-packages (from jsonschema>=3.0->altair<6,>=4.0->streamlit>=0.84.1->streamlit-webrtc) (0.19.3)\n",
            "Requirement already satisfied: mdurl~=0.1 in /usr/local/lib/python3.10/dist-packages (from markdown-it-py>=2.2.0->rich<14,>=10.14.0->streamlit>=0.84.1->streamlit-webrtc) (0.1.2)\n",
            "Requirement already satisfied: tzdata in /usr/local/lib/python3.10/dist-packages (from pytz-deprecation-shim->tzlocal<5,>=1.1->streamlit>=0.84.1->streamlit-webrtc) (2023.3)\n",
            "Installing collected packages: ifaddr, av, pyee, dnspython, pylibsrtp, cryptography, aioice, pyopenssl, aiortc, streamlit-webrtc\n",
            "  Attempting uninstall: cryptography\n",
            "    Found existing installation: cryptography 3.4.8\n",
            "    Uninstalling cryptography-3.4.8:\n",
            "      Successfully uninstalled cryptography-3.4.8\n",
            "Successfully installed aioice-0.9.0 aiortc-1.5.0 av-10.0.0 cryptography-41.0.2 dnspython-2.4.1 ifaddr-0.2.0 pyee-11.0.0 pylibsrtp-0.8.0 pyopenssl-23.2.0 streamlit-webrtc-0.45.1\n"
          ]
        }
      ],
      "source": [
        "# @title Run this to setup libraries and environment\n",
        "!pip -q install streamlit > /dev/null\n",
        "!pip -q install pyngrok > /dev/null\n",
        "!pip install streamlit\n",
        "!pip install opencv-python\n",
        "!pip install streamlit-webrtc\n",
        "\n",
        "\n",
        "import tensorflow as tf\n",
        "import pandas as pd\n",
        "import zipfile\n",
        "import gdown\n",
        "import cv2\n",
        "import plotly.express as px\n",
        "import numpy as np\n",
        "from pyngrok import ngrok\n",
        "import seaborn as sns\n",
        "import matplotlib.pyplot as plt\n",
        "\n",
        "def launch_website():\n",
        "  print (\"Click this link to try your web app:\")\n",
        "  if (ngrok.get_tunnels() != None):\n",
        "    ngrok.kill()\n",
        "  public_url = ngrok.connect()\n",
        "  print (public_url)\n",
        "  !streamlit run --server.port 80 app.py >/dev/null"
      ]
    },
    {
      "cell_type": "markdown",
      "metadata": {
        "id": "IAAN3nw-oCSz"
      },
      "source": [
        "Running Ngrok Authtoken"
      ]
    },
    {
      "cell_type": "code",
      "execution_count": null,
      "metadata": {
        "colab": {
          "base_uri": "https://localhost:8080/"
        },
        "id": "pxOBZDEIoB3r",
        "outputId": "052d3867-c771-4219-fc65-4c817cb6d8b8"
      },
      "outputs": [
        {
          "output_type": "stream",
          "name": "stdout",
          "text": [
            "Authtoken saved to configuration file: /root/.ngrok2/ngrok.yml\n"
          ]
        }
      ],
      "source": [
        "!ngrok authtoken 2T8QECO37MfUyO7Uu138pRtpjlV_5rVT3ZTenXPxp6nUGbPs5"
      ]
    },
    {
      "cell_type": "markdown",
      "metadata": {
        "id": "1MqnPxnhh1lO"
      },
      "source": [
        "Importing the cnn model\n"
      ]
    },
    {
      "cell_type": "code",
      "execution_count": null,
      "metadata": {
        "colab": {
          "base_uri": "https://localhost:8080/"
        },
        "id": "LOUatxz-h2cr",
        "outputId": "604a3e6d-1eb2-4cd3-d4b4-3e131fa101c1"
      },
      "outputs": [
        {
          "output_type": "stream",
          "name": "stdout",
          "text": [
            "Mounted at /content/gdrive\n"
          ]
        }
      ],
      "source": [
        "from google.colab import drive\n",
        "drive.mount('/content/gdrive')\n",
        "\n",
        "cnn_path = F\"/content/gdrive/My Drive/transfer_cnn.zip\"\n",
        "\n",
        "with zipfile.ZipFile(cnn_path, 'r') as zip_ref:\n",
        "    zip_ref.extractall('')"
      ]
    },
    {
      "cell_type": "code",
      "execution_count": null,
      "metadata": {
        "colab": {
          "base_uri": "https://localhost:8080/"
        },
        "id": "V-9pcaydhuOA",
        "outputId": "c140c690-f476-4b89-da35-43e46120e300"
      },
      "outputs": [
        {
          "output_type": "stream",
          "name": "stdout",
          "text": [
            "Mounted at /content/gdrive\n"
          ]
        }
      ],
      "source": [
        "from google.colab import drive\n",
        "drive.mount('/content/gdrive', force_remount=True)"
      ]
    },
    {
      "cell_type": "markdown",
      "metadata": {
        "id": "j5qCVW_eiwxy"
      },
      "source": [
        "Make model = your imported file\n"
      ]
    },
    {
      "cell_type": "code",
      "execution_count": null,
      "metadata": {
        "id": "ATYbsonQi0Lg"
      },
      "outputs": [],
      "source": [
        "model = tf.keras.models.load_model('transfer_cnn')"
      ]
    },
    {
      "cell_type": "code",
      "execution_count": null,
      "metadata": {
        "colab": {
          "base_uri": "https://localhost:8080/"
        },
        "id": "iQB5mc_Kivv4",
        "outputId": "70fa7d7f-08cb-4de2-94a1-5cdb4ab00513"
      },
      "outputs": [
        {
          "output_type": "stream",
          "name": "stdout",
          "text": [
            "Model: \"sequential_5\"\n",
            "_________________________________________________________________\n",
            " Layer (type)                Output Shape              Param #   \n",
            "=================================================================\n",
            " conv2d (Conv2D)             (None, 46, 46, 64)        640       \n",
            "                                                                 \n",
            " batch_normalization (BatchN  (None, 46, 46, 64)       256       \n",
            " ormalization)                                                   \n",
            "                                                                 \n",
            " max_pooling2d (MaxPooling2D  (None, 23, 23, 64)       0         \n",
            " )                                                               \n",
            "                                                                 \n",
            " dropout_6 (Dropout)         (None, 23, 23, 64)        0         \n",
            "                                                                 \n",
            " conv2d_1 (Conv2D)           (None, 21, 21, 64)        36928     \n",
            "                                                                 \n",
            " batch_normalization_1 (Batc  (None, 21, 21, 64)       256       \n",
            " hNormalization)                                                 \n",
            "                                                                 \n",
            " max_pooling2d_1 (MaxPooling  (None, 10, 10, 64)       0         \n",
            " 2D)                                                             \n",
            "                                                                 \n",
            " dropout_7 (Dropout)         (None, 10, 10, 64)        0         \n",
            "                                                                 \n",
            " flatten (Flatten)           (None, 6400)              0         \n",
            "                                                                 \n",
            " dense_17 (Dense)            (None, 512)               3277312   \n",
            "                                                                 \n",
            " dense_18 (Dense)            (None, 5)                 2565      \n",
            "                                                                 \n",
            "=================================================================\n",
            "Total params: 3,317,957\n",
            "Trainable params: 3,317,701\n",
            "Non-trainable params: 256\n",
            "_________________________________________________________________\n"
          ]
        }
      ],
      "source": [
        "model.summary()"
      ]
    },
    {
      "cell_type": "code",
      "execution_count": null,
      "metadata": {
        "colab": {
          "base_uri": "https://localhost:8080/"
        },
        "id": "83Vdg9rrhwGV",
        "outputId": "100ba4cd-cc61-458c-81c2-af3da6a22436"
      },
      "outputs": [
        {
          "output_type": "stream",
          "name": "stdout",
          "text": [
            "Writing app.py\n"
          ]
        }
      ],
      "source": [
        "%%writefile app.py\n",
        "import streamlit as st\n",
        "import numpy as np\n",
        "import tensorflow as tf\n",
        "import cv2\n",
        "from tensorflow.keras.preprocessing.image import img_to_array\n",
        "from PIL import Image\n",
        "from streamlit_webrtc import webrtc_streamer, VideoTransformerBase, RTCConfiguration\n",
        "\n",
        "# Load your pre-trained emotion detection CNN model\n",
        "model = tf.keras.models.load_model('transfer_cnn')  # Replace with the path to your model file\n",
        "\n",
        "# Define emotion labels (modify as per your model's output)\n",
        "emotion_labels = ['Angry', 'Happy', 'Neutral', 'Sad', 'Surprise']\n",
        "\n",
        "# Define the VideoTransformer class for real-time emotion detection\n",
        "class EmotionDetector(VideoTransformerBase):\n",
        "    def __init__(self):\n",
        "        self._prediction = None\n",
        "\n",
        "    def predict(self, frame):\n",
        "        # Preprocess the frame for the model\n",
        "        frame_resized = cv2.resize(frame, (48, 48))\n",
        "        frame_rgb = cv2.cvtColor(frame_resized, cv2.COLOR_BGR2RGB)\n",
        "        frame_array = img_to_array(frame_rgb)\n",
        "        input_tensor = np.expand_dims(frame_array, axis=0)\n",
        "\n",
        "        # Pass the frame through the model for emotion prediction\n",
        "        with tf.device('/cpu:0'):  # If using GPU, comment out this line\n",
        "            output = model.predict(input_tensor)\n",
        "            predicted_idx = np.argmax(output, axis=1)[0]\n",
        "            predicted_emotion = emotion_labels[predicted_idx]\n",
        "\n",
        "        return predicted_emotion\n",
        "\n",
        "    def transform(self, frame):\n",
        "        # Predict emotion using the EmotionDetector class\n",
        "        predicted_emotion = self.predict(frame)\n",
        "\n",
        "        # Draw bounding box and emotion label on the frame (optional)\n",
        "        cv2.putText(frame, predicted_emotion, (10, 30), cv2.FONT_HERSHEY_SIMPLEX, 1, (0, 255, 0), 2)\n",
        "\n",
        "        # Display the processed image (debugging purposes)\n",
        "        st.image(frame, channels='BGR')\n",
        "\n",
        "        # Display the predicted emotion\n",
        "        st.header(\"Prediction\")\n",
        "        st.subheader(\"Emotion\")\n",
        "        st.write(predicted_emotion)\n",
        "\n",
        "        return frame\n",
        "\n",
        "# Run the Streamlit app\n",
        "def main():\n",
        "    st.title('Real-time Emotion Detection')\n",
        "\n",
        "    # Define the WebRTC configuration to access the webcam\n",
        "    rtc_configuration = RTCConfiguration(\n",
        "        iceServers=[{\"urls\": [\"stun:stun.l.google.com:19302\"]}],\n",
        "        mandatory={\"OfferToReceiveAudio\": True, \"OfferToReceiveVideo\": True},\n",
        "    )\n",
        "\n",
        "    # Start webcam and real-time emotion detection using streamlit-webrtc\n",
        "    video_transformer = EmotionDetector()\n",
        "    webrtc_ctx = webrtc_streamer(\n",
        "        key='emotion-detection',\n",
        "        rtc_configuration=rtc_configuration,\n",
        "        video_transformer_factory=lambda: video_transformer,\n",
        "        async_transform=True,\n",
        "    )\n",
        "\n",
        "if __name__ == '__main__':\n",
        "    main()"
      ]
    },
    {
      "cell_type": "markdown",
      "metadata": {
        "id": "WL-XFK8N13Vn"
      },
      "source": [
        "MP4 checker"
      ]
    },
    {
      "cell_type": "code",
      "execution_count": null,
      "metadata": {
        "colab": {
          "base_uri": "https://localhost:8080/"
        },
        "id": "Ub1H6RMj1kb8",
        "outputId": "68154399-62e4-40c6-e320-5b4ea0b68513"
      },
      "outputs": [
        {
          "output_type": "stream",
          "name": "stdout",
          "text": [
            "Overwriting app.py\n"
          ]
        }
      ],
      "source": [
        "%%writefile app.py\n",
        "import streamlit as st\n",
        "import numpy as np\n",
        "import tensorflow as tf\n",
        "import cv2\n",
        "from tensorflow.keras.preprocessing.image import img_to_array\n",
        "import matplotlib.pyplot as plt\n",
        "from PIL import Image\n",
        "import tempfile\n",
        "\n",
        "# Load your pre-trained emotion detection CNN model\n",
        "model = tf.keras.models.load_model('transfer_cnn')  # Replace with the path to your model file\n",
        "\n",
        "# Define emotion labels (modify as per your model's output)\n",
        "emotion_labels = ['Angry', 'Happy', 'Neutral', 'Sad', 'Surprise']\n",
        "\n",
        "# Function to process and classify the frame\n",
        "def process_frame(frame):\n",
        "    # Convert the frame to grayscale\n",
        "    frame_gray = cv2.cvtColor(frame, cv2.COLOR_BGR2GRAY)\n",
        "\n",
        "    # Preprocess the frame for the model\n",
        "    frame_resized = cv2.resize(frame_gray, (48, 48))\n",
        "    frame_array = img_to_array(frame_resized)\n",
        "    input_tensor = np.expand_dims(frame_array, axis=0)\n",
        "\n",
        "    # Pass the frame through the model for emotion prediction\n",
        "    with tf.device('/cpu:0'):  # If using GPU, comment out this line\n",
        "        output = model.predict(input_tensor)\n",
        "        predicted_idx = np.argmax(output, axis=1)[0]\n",
        "        predicted_emotion = emotion_labels[predicted_idx]\n",
        "\n",
        "    return predicted_emotion\n",
        "\n",
        "def main():\n",
        "    st.title('Emotion Detection from MP4 Video')\n",
        "\n",
        "    # File uploader to upload the MP4 video\n",
        "    uploaded_file = st.file_uploader(\"Upload a video (MP4)\", type=[\"mp4\"])\n",
        "\n",
        "    if uploaded_file is not None:\n",
        "        # Create a temporary file and write the uploaded video content to it\n",
        "        temp_file = tempfile.NamedTemporaryFile(delete=False)\n",
        "        temp_file.write(uploaded_file.read())\n",
        "        temp_file.close()\n",
        "\n",
        "        # Read the video file using OpenCV\n",
        "        cap = cv2.VideoCapture(temp_file.name)\n",
        "\n",
        "        # Perform emotion detection and store emotions and timestamps in lists\n",
        "        emotions = []\n",
        "        timestamps = []\n",
        "        frame_num = 0\n",
        "        while cap.isOpened():\n",
        "            ret, frame = cap.read()\n",
        "            if not ret:\n",
        "                break\n",
        "\n",
        "            # Process the frame\n",
        "            predicted_emotion = process_frame(frame)\n",
        "            emotions.append(predicted_emotion)\n",
        "            timestamps.append(frame_num / cap.get(cv2.CAP_PROP_FPS))\n",
        "            frame_num += 1\n",
        "\n",
        "        # Release video capture\n",
        "        cap.release()\n",
        "\n",
        "        # Plot emotions over time as a scatterplot\n",
        "        fig, ax = plt.subplots()\n",
        "        ax.scatter(timestamps, emotions)\n",
        "        ax.set_xlabel(\"Time (seconds)\")\n",
        "        ax.set_ylabel(\"Emotion\")\n",
        "        st.pyplot(fig)\n",
        "\n",
        "if __name__ == '__main__':\n",
        "    main()"
      ]
    },
    {
      "cell_type": "markdown",
      "metadata": {
        "id": "88WbLQWhoQ_H"
      },
      "source": [
        "Run site"
      ]
    },
    {
      "cell_type": "code",
      "execution_count": null,
      "metadata": {
        "colab": {
          "base_uri": "https://localhost:8080/"
        },
        "id": "rRh9jMnMoR9j",
        "outputId": "9917f481-84f7-437c-fd4f-a43cbe66212d"
      },
      "outputs": [
        {
          "output_type": "stream",
          "name": "stderr",
          "text": [
            "WARNING:pyngrok.process.ngrok:t=2023-08-01T04:34:03+0000 lvl=warn msg=\"ngrok config file found at legacy location, move to XDG location\" xdg_path=/root/.config/ngrok/ngrok.yml legacy_path=/root/.ngrok2/ngrok.yml\n"
          ]
        },
        {
          "output_type": "stream",
          "name": "stdout",
          "text": [
            "Click this link to try your web app:\n"
          ]
        },
        {
          "output_type": "stream",
          "name": "stderr",
          "text": [
            "WARNING:pyngrok.process.ngrok:t=2023-08-01T04:34:03+0000 lvl=warn msg=\"ngrok config file found at legacy location, move to XDG location\" xdg_path=/root/.config/ngrok/ngrok.yml legacy_path=/root/.ngrok2/ngrok.yml\n"
          ]
        },
        {
          "output_type": "stream",
          "name": "stdout",
          "text": [
            "NgrokTunnel: \"https://8a6f-35-230-170-157.ngrok-free.app\" -> \"http://localhost:80\"\n"
          ]
        }
      ],
      "source": [
        "from pyngrok import ngrok\n",
        "#Publish Web App (Run this again whenever you make changes)\n",
        "launch_website()"
      ]
    }
  ],
  "metadata": {
    "colab": {
      "provenance": [],
      "authorship_tag": "ABX9TyM7hWvGNc2eVobk546plDUv",
      "include_colab_link": true
    },
    "kernelspec": {
      "display_name": "Python 3",
      "name": "python3"
    },
    "language_info": {
      "name": "python"
    }
  },
  "nbformat": 4,
  "nbformat_minor": 0
}